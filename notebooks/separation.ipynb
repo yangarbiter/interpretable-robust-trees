{
 "cells": [
  {
   "cell_type": "code",
   "execution_count": null,
   "metadata": {},
   "outputs": [],
   "source": [
    "import sys\n",
    "sys.path.append(\"../\")\n",
    "\n",
    "import numpy as np\n",
    "import pandas as pd\n",
    "import joblib\n",
    "\n",
    "from rsep_explain.variables import auto_var\n",
    "from utils import params_to_dataframe\n",
    "from params import CalcSepExperiments, CalcLinSepExperiments\n",
    "from IPython.display import display\n"
   ]
  },
  {
   "cell_type": "code",
   "execution_count": null,
   "metadata": {},
   "outputs": [],
   "source": [
    "def display_results(exp, result_file_dir='./results/calc_separation', columns=None):\n",
    "    if columns is None:\n",
    "        columns = ['n_samples', 'n_features', 'aug_n_samples', 'trn_rsep', 'aug_rsep',\n",
    "                    'trn_acc', 'tst_acc', 'node_count', 'depth', 'n_leaves',\n",
    "                    'ap_trn_acc', 'ap_tst_acc', 'ap_node_count', 'ap_depth', 'ap_n_leaves',]\n",
    "    _, _, grid_params, _ = exp()()\n",
    "    df = params_to_dataframe(grid_params,\n",
    "                             columns=columns,\n",
    "                             result_file_dir=result_file_dir,\n",
    "                             logging_level=0)\n",
    "    return df"
   ]
  },
  {
   "cell_type": "code",
   "execution_count": null,
   "metadata": {},
   "outputs": [],
   "source": [
    "df = display_results(CalcSepExperiments, result_file_dir='../results/calc_separation', columns=['n_samples', 'n_features', 'aug_n_samples', 'aug_rsep'])\n",
    "df['dataset'] = df['dataset'].map(lambda x: x.replace(\"risk_\", \"\"))\n",
    "dd = df.set_index(\"dataset\")\n",
    "dd['percentage removed'] = (dd['n_samples'] - dd['aug_n_samples']) / dd['n_samples']\n",
    "dd['rsep'] = dd['aug_rsep'].map(lambda x: np.min(x))\n",
    "rsep_dd = dd[['n_samples', 'percentage removed', 'rsep']]\n",
    "rsep_dd['n_samples'] = rsep_dd['n_samples'].map(lambda x: int(x))\n",
    "print(rsep_dd.to_latex(escape=False, column_format=\"lcc\", float_format=\"%.6f\"))\n",
    "rsep_dd"
   ]
  },
  {
   "cell_type": "code",
   "execution_count": null,
   "metadata": {},
   "outputs": [],
   "source": [
    "df = display_results(CalcLinSepExperiments, result_file_dir='../results/calc_lin_separation/',\n",
    "                     columns=['n_samples', 'l1svm_results'])\n",
    "df['dataset'] = df['dataset'].map(lambda x: x.replace(\"risk_\", \"\"))\n",
    "def get_lin_sep_samples(df):\n",
    "    cs = [1e-10, 1e-8, 1e-6, 1e-4, 1e-2, 1e-0, 1e2, 1e4, 1e6, 1e8, 1e10]\n",
    "    c_n_examples = {}\n",
    "    c_gamma = {}\n",
    "    for i, d in df.iterrows():\n",
    "        X, y = auto_var.get_var_with_argument(\"dataset\", f\"risk_{d['dataset']}\",\n",
    "                                              base_dir=\"../\")\n",
    "        preprocess_fn = auto_var.get_var_with_argument(\"preprocessor\", \"rminmax\", X=X)\n",
    "        X = preprocess_fn(X)\n",
    "        \n",
    "        for c in cs:\n",
    "            for ent in d['l1svm_results']:\n",
    "                if ent['c'] == c:\n",
    "                    break\n",
    "            w = np.asarray(ent['w'])\n",
    "            w = w / np.linalg.norm(w, ord=1) \n",
    "            if np.isnan(np.linalg.norm(w, ord=1)):\n",
    "                gamma = -1\n",
    "            else:\n",
    "                assert np.isclose(np.linalg.norm(w, ord=1), 1), np.linalg.norm(w, ord=1)\n",
    "\n",
    "                value = (y.reshape(-1) * np.dot(X, w).reshape(-1))\n",
    "                gamma = value[value > 0].min()\n",
    "\n",
    "                #if len(ent['adv dists']) == 1:\n",
    "                #    gamma = -1\n",
    "                #else:\n",
    "                #    value = (y.reshape(-1) * np.dot(X, w).reshape(-1))\n",
    "                #    gamma = ent['adv dists'][value > 0]\n",
    "                #    if len(gamma) > 0:\n",
    "                #        gamma = gamma.min()\n",
    "                #    else:\n",
    "                #        gamma = -1\n",
    "            \n",
    "            c_gamma.setdefault(c, []).append(gamma)\n",
    "            c_n_examples.setdefault(c, []).append(1. - ent['acc'])\n",
    "    n_samples, wl1s, gammas = [], [], []\n",
    "    for c in cs:\n",
    "        n_samples.append(c_n_examples[c])\n",
    "        gammas.append(c_gamma[c])\n",
    "        \n",
    "    idx = np.argmin(n_samples, axis=0)\n",
    "    #n_samples = n_samples[1:]\n",
    "    df['removed'] = np.min(n_samples, axis=0)\n",
    "    #df['wl1'] = [wl1s[i][k] for i, k in enumerate(idx)]\n",
    "    df['wl1'] = [gammas[k][i] for i, k in enumerate(idx)]\n",
    "    return df[['dataset', 'n_samples', 'removed', 'wl1']]\n",
    "\n",
    "df = get_lin_sep_samples(df)\n",
    "dd = df.groupby([\"dataset\"]).mean()\n",
    "dd['percentage removed'] = dd['removed']\n",
    "linsep_dd = dd[['n_samples', 'percentage removed', 'wl1']]\n",
    "linsep_dd['n_samples'] = linsep_dd['n_samples'].map(lambda x: int(x))\n",
    "linsep_dd"
   ]
  },
  {
   "cell_type": "code",
   "execution_count": null,
   "metadata": {},
   "outputs": [],
   "source": [
    "data = {}\n",
    "for ds in CalcSepExperiments.grid_params[0]['dataset']:\n",
    "    X, y = auto_var.get_var_with_argument(\"dataset\", ds, base_dir=\"../\")\n",
    "    bin_fets = 0\n",
    "    for i in range(X.shape[1]):\n",
    "        if len(np.unique(X[:, i])) == 2:\n",
    "            bin_fets += 1\n",
    "    data[ds.replace(\"risk_\", \"\")] = [X.shape[0], X.shape[1]-1, bin_fets, (y==1).mean()]\n",
    "df_stats = pd.DataFrame.from_dict(data, orient='index', columns=[\"\\# samples\", \"\\# features\", \"\\# binary features\", \"percentage of positive label\"])\n",
    "df_stats.index.name = \"dataset\"\n",
    "df_stats = df_stats.sort_index()\n",
    "df_stats"
   ]
  },
  {
   "cell_type": "code",
   "execution_count": null,
   "metadata": {},
   "outputs": [],
   "source": [
    "ddff = df_stats.merge(rsep_dd[['percentage removed', 'rsep']], on='dataset')\n",
    "ddff = ddff.merge(linsep_dd[['percentage removed', 'wl1']], on='dataset', suffixes=(\"\", \"_lin\"))\n",
    "df_stats.index.name = \"dataset\"\n",
    "ddff['percentage removed'] = 1.-ddff['percentage removed']\n",
    "ddff['percentage removed_lin'] = 1.-ddff['percentage removed_lin']\n",
    "print(ddff.to_latex(escape=False, column_format=\"lccccc\", float_format=\"%.2f\"))\n",
    "ddff.sort_index()"
   ]
  },
  {
   "cell_type": "code",
   "execution_count": null,
   "metadata": {},
   "outputs": [],
   "source": [
    "ddff = df_stats.merge(rsep_dd[['percentage removed', 'rsep']], on='dataset')\n",
    "ddff = ddff.merge(linsep_dd[['percentage removed', 'wl1']], on='dataset', suffixes=(\"\", \"_lin\"))\n",
    "df_stats.index.name = \"dataset\"\n",
    "ddff['percentage removed'] = 1.-ddff['percentage removed']\n",
    "ddff['percentage removed_lin'] = 1.-ddff['percentage removed_lin']\n",
    "print(ddff.to_latex(escape=False, column_format=\"lccccc\", float_format=\"%.2f\"))\n",
    "ddff.sort_index()"
   ]
  },
  {
   "cell_type": "code",
   "execution_count": null,
   "metadata": {},
   "outputs": [],
   "source": []
  },
  {
   "cell_type": "code",
   "execution_count": null,
   "metadata": {},
   "outputs": [],
   "source": []
  },
  {
   "cell_type": "code",
   "execution_count": null,
   "metadata": {},
   "outputs": [],
   "source": [
    "res = joblib.load(\"../results/calc_lin_separation/risk_diabetes-rminmax-0.pkl\")"
   ]
  },
  {
   "cell_type": "code",
   "execution_count": null,
   "metadata": {},
   "outputs": [],
   "source": [
    "res['svm_results'][1]['adv dists'].max()"
   ]
  }
 ],
 "metadata": {
  "kernelspec": {
   "display_name": "Python 3",
   "language": "python",
   "name": "python3"
  },
  "language_info": {
   "codemirror_mode": {
    "name": "ipython",
    "version": 3
   },
   "file_extension": ".py",
   "mimetype": "text/x-python",
   "name": "python",
   "nbconvert_exporter": "python",
   "pygments_lexer": "ipython3",
   "version": "3.7.6"
  }
 },
 "nbformat": 4,
 "nbformat_minor": 4
}
