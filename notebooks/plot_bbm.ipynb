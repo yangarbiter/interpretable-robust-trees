{
 "cells": [
  {
   "cell_type": "code",
   "execution_count": 1,
   "metadata": {},
   "outputs": [],
   "source": [
    "import sys\n",
    "sys.path.append(\"../\")\n",
    "\n",
    "import matplotlib\n",
    "matplotlib.rcParams['pdf.fonttype'] = 42\n",
    "matplotlib.rcParams['ps.fonttype'] = 42\n",
    "matplotlib.rc('text', usetex=False)\n",
    "\n",
    "import numpy as np\n",
    "import pandas as pd\n",
    "import joblib\n",
    "import matplotlib.pyplot as plt\n",
    "import scipy\n",
    "\n",
    "from rsep_explain.variables import auto_var\n",
    "from utils import params_to_dataframe\n",
    "from params import LinSepBBMRobExperiments3\n",
    "from IPython.display import display\n",
    "\n",
    "fontsize = 20"
   ]
  },
  {
   "cell_type": "code",
   "execution_count": 2,
   "metadata": {},
   "outputs": [],
   "source": [
    "def get_df(exp, result_file_dir='./results/calc_separation', columns=None):\n",
    "    _, _, grid_params, _ = exp()()\n",
    "    df = params_to_dataframe(grid_params,\n",
    "                             columns=columns,\n",
    "                             result_file_dir=result_file_dir,\n",
    "                             logging_level=0)\n",
    "    return df"
   ]
  },
  {
   "cell_type": "code",
   "execution_count": 3,
   "metadata": {},
   "outputs": [],
   "source": [
    "ori_df = get_df(LinSepBBMRobExperiments3, '../results/lin_sep_bbm_rob_3/', ['bbm_results'])"
   ]
  },
  {
   "cell_type": "code",
   "execution_count": 4,
   "metadata": {},
   "outputs": [],
   "source": [
    "unique_clfs = {}\n",
    "accs = {}\n",
    "dset_curve = {}\n",
    "dset_max_depth = {}\n",
    "df = ori_df.loc[ori_df['rsep'] == 0.05].copy()\n",
    "for i, d in df.iterrows():\n",
    "    d['bbm_results']['dif_depth'].append({'tst acc': d['bbm_results']['tst acc']})\n",
    "    #temp = np.asarray([data['tst acc'] for data in d[\"bbm_results\"]['dif_depth'] if data])\n",
    "\n",
    "    temp = []\n",
    "    unique_leaners = set()\n",
    "    for i in range(len(d['bbm_results']['learned_model'])):\n",
    "        if d['bbm_results']['learned_model'][i] in unique_leaners:\n",
    "            temp[-1] = max(temp[-1], d[\"bbm_results\"]['dif_depth'][i]['tst acc'])\n",
    "        else:\n",
    "            temp.append(d[\"bbm_results\"]['dif_depth'][i+1]['tst acc'])\n",
    "        unique_leaners.add(d['bbm_results']['learned_model'][i])\n",
    "        \n",
    "    curve = np.zeros(100)\n",
    "    curve[:len(temp)] = temp\n",
    "    curve[len(temp):] = temp[-1]\n",
    "    dset_max_depth[d['dataset']] = max(len(temp), dset_max_depth.setdefault(d['dataset'], 0))\n",
    "    dset_curve.setdefault(d['dataset'], []).append(curve)"
   ]
  },
  {
   "cell_type": "code",
   "execution_count": 6,
   "metadata": {},
   "outputs": [],
   "source": [
    "for k, v in dset_curve.items():\n",
    "    #plt.title(k, fontsize=fontsize)\n",
    "    #plt.plot(np.mean(v, axis=0), label=\"lin sep\")\n",
    "    #plt.plot(np.mean(dset_ori_curve[k], axis=0), label=\"ori\")\n",
    "    depth = dset_max_depth[k]\n",
    "    plt.errorbar(x=np.arange(100)[:depth],\n",
    "                 y=np.mean(np.array(dset_curve[k])[:, :depth], axis=0),\n",
    "                 yerr=scipy.stats.sem(np.array(dset_curve[k])[:, :depth], axis=0))\n",
    "    #plt.xlabel('# weak learners', fontsize=fontsize)\n",
    "    plt.xlabel('interpretation complexity', fontsize=fontsize)\n",
    "    plt.ylabel('test accuracy', fontsize=fontsize)\n",
    "    #plt.legend(fontsize=fontsize)\n",
    "    plt.tight_layout()\n",
    "    plt.savefig(f\"./figs/bbm_acc_number/{k}.png\")\n",
    "    plt.close()"
   ]
  },
  {
   "cell_type": "code",
   "execution_count": null,
   "metadata": {},
   "outputs": [],
   "source": []
  }
 ],
 "metadata": {
  "kernelspec": {
   "display_name": "Python 3",
   "language": "python",
   "name": "python3"
  },
  "language_info": {
   "codemirror_mode": {
    "name": "ipython",
    "version": 3
   },
   "file_extension": ".py",
   "mimetype": "text/x-python",
   "name": "python",
   "nbconvert_exporter": "python",
   "pygments_lexer": "ipython3",
   "version": "3.7.6"
  }
 },
 "nbformat": 4,
 "nbformat_minor": 4
}
